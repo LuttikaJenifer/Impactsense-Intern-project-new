{
  "nbformat": 4,
  "nbformat_minor": 0,
  "metadata": {
    "colab": {
      "provenance": []
    },
    "kernelspec": {
      "name": "python3",
      "display_name": "Python 3"
    },
    "language_info": {
      "name": "python"
    }
  },
  "cells": [
    {
      "cell_type": "markdown",
      "source": [
        "### Implementation of Cross-Validation & Hyperparameter Tuning"
      ],
      "metadata": {
        "id": "QrJHnOGDCygG"
      }
    },
    {
      "cell_type": "code",
      "execution_count": 2,
      "metadata": {
        "id": "kdR5lCZiCszK"
      },
      "outputs": [],
      "source": [
        "import pandas as pd\n",
        "import numpy as np\n",
        "from sklearn.model_selection import cross_val_score\n",
        "from sklearn.ensemble import RandomForestClassifier\n",
        "from sklearn.linear_model import LogisticRegression"
      ]
    },
    {
      "cell_type": "code",
      "source": [
        "data = pd.read_csv('/content/sample_data/preprocessed_earthquake_data.csv')"
      ],
      "metadata": {
        "id": "HYgq9zpNDBBc"
      },
      "execution_count": 3,
      "outputs": []
    },
    {
      "cell_type": "code",
      "source": [
        "target='Status_Reviewed'\n",
        "categorical_cols=['Type','Magnitude Type','Source','Status']\n",
        "\n",
        "X =data.drop(columns=[target]+categorical_cols)\n",
        "y =data[target]"
      ],
      "metadata": {
        "id": "ZwVL4SfHDYLH"
      },
      "execution_count": 4,
      "outputs": []
    },
    {
      "cell_type": "code",
      "source": [
        "models={\n",
        "    'RandomForest': RandomForestClassifier(random_state=42),\n",
        "    'LogisticRegression': LogisticRegression(random_state=42)\n",
        "}"
      ],
      "metadata": {
        "id": "xqj0DJPxDnYx"
      },
      "execution_count": 5,
      "outputs": []
    },
    {
      "cell_type": "code",
      "source": [
        "for name, model in models.items():\n",
        "    print(f\"\\nCross-validation for {name}:\")\n",
        "    y_cleaned = y.dropna()\n",
        "    X_cleaned = X.loc[y_cleaned.index]\n",
        "\n",
        "    scores = cross_val_score(model, X_cleaned, y_cleaned, cv=10, scoring='accuracy')\n",
        "    print(f\"Accuracy Scores for each fold: {scores}\")\n",
        "    print(f\"Mean Accuracy: {np.mean(scores):.4f}\")\n",
        "    print(f\"Accuracy Variance: {np.var(scores):.6f}\")"
      ],
      "metadata": {
        "colab": {
          "base_uri": "https://localhost:8080/"
        },
        "id": "lkZmO6Kc375w",
        "outputId": "8619a52d-440c-4421-a0c4-51eb9676fe4c"
      },
      "execution_count": 8,
      "outputs": [
        {
          "output_type": "stream",
          "name": "stdout",
          "text": [
            "\n",
            "Cross-validation for RandomForest:\n",
            "Accuracy Scores for each fold: [1.         1.         1.         1.         1.         1.\n",
            " 1.         1.         1.         0.97282099]\n",
            "Mean Accuracy: 0.9973\n",
            "Accuracy Variance: 0.000066\n",
            "\n",
            "Cross-validation for LogisticRegression:\n",
            "Accuracy Scores for each fold: [0.99672131 1.         1.         1.         1.         1.\n",
            " 1.         1.         1.         0.97000937]\n",
            "Mean Accuracy: 0.9967\n",
            "Accuracy Variance: 0.000080\n"
          ]
        }
      ]
    },
    {
      "cell_type": "code",
      "source": [
        "from sklearn.model_selection import GridSearchCV\n",
        "\n",
        "param_grid_rf = {\n",
        "    'n_estimators': [50, 100, 200],\n",
        "    'max_depth': [None, 10, 20],\n",
        "    'min_samples_split': [2, 5]\n",
        "}"
      ],
      "metadata": {
        "id": "wry0qZzl4DTP"
      },
      "execution_count": 9,
      "outputs": []
    },
    {
      "cell_type": "code",
      "source": [
        "param_grid_lr = {\n",
        "    'C': [0.01, 0.1, 1, 10],\n",
        "    'penalty': ['l1', 'l2'],\n",
        "    'solver': ['liblinear']\n",
        "}"
      ],
      "metadata": {
        "id": "kqdjAQg44Gws"
      },
      "execution_count": 10,
      "outputs": []
    },
    {
      "cell_type": "code",
      "source": [
        "grid_searches = {\n",
        "    'RandomForest': GridSearchCV(RandomForestClassifier(random_state=42), param_grid_rf, cv=5, scoring='accuracy'),\n",
        "    'LogisticRegression': GridSearchCV(LogisticRegression(max_iter=500, random_state=42), param_grid_lr, cv=5, scoring='accuracy')\n",
        "}"
      ],
      "metadata": {
        "id": "gl5ngCt24JxG"
      },
      "execution_count": 11,
      "outputs": []
    },
    {
      "cell_type": "code",
      "source": [
        "for name, gs in grid_searches.items():\n",
        "    y_cleaned = y.dropna()\n",
        "    X_cleaned = X.loc[y_cleaned.index]\n",
        "\n",
        "    gs.fit(X_cleaned, y_cleaned)\n",
        "    print(f\"\\nBest parameters for {name}: {gs.best_params_}\")\n",
        "    print(f\"Best cross-validation accuracy for {name}: {gs.best_score_:.4f}\")"
      ],
      "metadata": {
        "colab": {
          "base_uri": "https://localhost:8080/"
        },
        "id": "TR0udDiF4Xjy",
        "outputId": "8f9ace82-2576-417e-d00e-5cdd9136fb7c"
      },
      "execution_count": 13,
      "outputs": [
        {
          "output_type": "stream",
          "name": "stdout",
          "text": [
            "\n",
            "Best parameters for RandomForest: {'max_depth': None, 'min_samples_split': 5, 'n_estimators': 50}\n",
            "Best cross-validation accuracy for RandomForest: 0.9972\n",
            "\n",
            "Best parameters for LogisticRegression: {'C': 0.1, 'penalty': 'l1', 'solver': 'liblinear'}\n",
            "Best cross-validation accuracy for LogisticRegression: 0.9972\n"
          ]
        }
      ]
    }
  ]
}